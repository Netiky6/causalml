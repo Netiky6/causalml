{
 "cells": [
  {
   "cell_type": "markdown",
   "metadata": {},
   "source": [
    "# Feature Selection for Uplift Modeling\n",
    "  \n",
    "    \n",
    "This notebook includes two sections:  \n",
    "- **Feature selection**: demonstrate how to use Filter methods to select the most important numeric features\n",
    "- **Performance evaluation**: evaluate the AUUC performance with top features dataset\n",
    "  \n",
    "*(Paper reference: [Zhao, Zhenyu, et al. \"Feature Selection Methods for Uplift Modeling.\" arXiv preprint arXiv:2005.03447 (2020).](https://arxiv.org/abs/2005.03447))*"
   ]
  },
  {
   "cell_type": "code",
   "execution_count": 1,
   "metadata": {
    "ExecuteTime": {
     "end_time": "2021-11-29T22:45:16.975121Z",
     "start_time": "2021-11-29T22:45:16.749881Z"
    }
   },
   "outputs": [],
   "source": [
    "import numpy as np\n",
    "import pandas as pd"
   ]
  },
  {
   "cell_type": "code",
   "execution_count": 2,
   "metadata": {
    "ExecuteTime": {
     "end_time": "2021-11-29T22:45:18.094794Z",
     "start_time": "2021-11-29T22:45:16.976822Z"
    }
   },
   "outputs": [],
   "source": [
    "from causalml.dataset import make_uplift_classification"
   ]
  },
  {
   "cell_type": "markdown",
   "metadata": {},
   "source": [
    "#### Import FilterSelect class for Filter methods"
   ]
  },
  {
   "cell_type": "code",
   "execution_count": 3,
   "metadata": {
    "ExecuteTime": {
     "end_time": "2021-11-29T22:45:18.103040Z",
     "start_time": "2021-11-29T22:45:18.097362Z"
    }
   },
   "outputs": [],
   "source": [
    "from causalml.feature_selection.filters import FilterSelect"
   ]
  },
  {
   "cell_type": "code",
   "execution_count": 4,
   "metadata": {
    "ExecuteTime": {
     "end_time": "2021-11-29T22:45:18.109523Z",
     "start_time": "2021-11-29T22:45:18.105177Z"
    }
   },
   "outputs": [],
   "source": [
    "from causalml.inference.tree import UpliftRandomForestClassifier\n",
    "from causalml.inference.meta import BaseXRegressor, BaseRRegressor, BaseSRegressor, BaseTRegressor\n",
    "from causalml.metrics import plot_gain, auuc_score"
   ]
  },
  {
   "cell_type": "code",
   "execution_count": 5,
   "metadata": {
    "ExecuteTime": {
     "end_time": "2021-11-29T22:45:18.112934Z",
     "start_time": "2021-11-29T22:45:18.111213Z"
    }
   },
   "outputs": [],
   "source": [
    "from sklearn.model_selection import train_test_split\n",
    "from sklearn.ensemble import RandomForestRegressor"
   ]
  },
  {
   "cell_type": "code",
   "execution_count": 6,
   "metadata": {
    "ExecuteTime": {
     "end_time": "2021-11-29T22:45:18.116303Z",
     "start_time": "2021-11-29T22:45:18.114315Z"
    }
   },
   "outputs": [],
   "source": [
    "import logging\n",
    "\n",
    "logger = logging.getLogger('causalml')\n",
    "logging.basicConfig(level=logging.INFO)"
   ]
  },
  {
   "cell_type": "markdown",
   "metadata": {},
   "source": [
    "### Generate dataset\n",
    "\n",
    "Generate synthetic data using the built-in function."
   ]
  },
  {
   "cell_type": "code",
   "execution_count": 7,
   "metadata": {
    "ExecuteTime": {
     "end_time": "2021-11-29T22:45:18.120534Z",
     "start_time": "2021-11-29T22:45:18.117882Z"
    }
   },
   "outputs": [],
   "source": [
    "# define parameters for simulation\n",
    "\n",
    "y_name = 'conversion'\n",
    "treatment_group_keys = ['control', 'treatment1']\n",
    "n = 100000\n",
    "n_classification_features = 50\n",
    "n_classification_informative = 10\n",
    "n_classification_repeated = 0\n",
    "n_uplift_increase_dict = {'treatment1': 8}\n",
    "n_uplift_decrease_dict = {'treatment1': 4}\n",
    "delta_uplift_increase_dict = {'treatment1': 0.1}\n",
    "delta_uplift_decrease_dict = {'treatment1': -0.1}\n",
    "\n",
    "random_seed = 20200808"
   ]
  },
  {
   "cell_type": "code",
   "execution_count": 8,
   "metadata": {
    "ExecuteTime": {
     "end_time": "2021-11-29T22:45:19.388449Z",
     "start_time": "2021-11-29T22:45:18.123271Z"
    }
   },
   "outputs": [],
   "source": [
    "df, X_names = make_uplift_classification(\n",
    "    treatment_name=treatment_group_keys,\n",
    "    y_name=y_name,\n",
    "    n_samples=n,\n",
    "    n_classification_features=n_classification_features,\n",
    "    n_classification_informative=n_classification_informative,\n",
    "    n_classification_repeated=n_classification_repeated,\n",
    "    n_uplift_increase_dict=n_uplift_increase_dict,\n",
    "    n_uplift_decrease_dict=n_uplift_decrease_dict,\n",
    "    delta_uplift_increase_dict = delta_uplift_increase_dict, \n",
    "    delta_uplift_decrease_dict = delta_uplift_decrease_dict,\n",
    "    random_seed=random_seed\n",
    ")"
   ]
  },
  {
   "cell_type": "code",
   "execution_count": 9,
   "metadata": {
    "ExecuteTime": {
     "end_time": "2021-11-29T22:45:19.417996Z",
     "start_time": "2021-11-29T22:45:19.391936Z"
    }
   },
   "outputs": [
    {
     "data": {
      "text/html": [
       "<div>\n",
       "<style scoped>\n",
       "    .dataframe tbody tr th:only-of-type {\n",
       "        vertical-align: middle;\n",
       "    }\n",
       "\n",
       "    .dataframe tbody tr th {\n",
       "        vertical-align: top;\n",
       "    }\n",
       "\n",
       "    .dataframe thead th {\n",
       "        text-align: right;\n",
       "    }\n",
       "</style>\n",
       "<table border=\"1\" class=\"dataframe\">\n",
       "  <thead>\n",
       "    <tr style=\"text-align: right;\">\n",
       "      <th></th>\n",
       "      <th>treatment_group_key</th>\n",
       "      <th>x1_informative</th>\n",
       "      <th>x2_informative</th>\n",
       "      <th>x3_informative</th>\n",
       "      <th>x4_informative</th>\n",
       "      <th>x5_informative</th>\n",
       "      <th>x6_informative</th>\n",
       "      <th>x7_informative</th>\n",
       "      <th>x8_informative</th>\n",
       "      <th>x9_informative</th>\n",
       "      <th>...</th>\n",
       "      <th>x56_uplift_increase</th>\n",
       "      <th>x57_uplift_increase</th>\n",
       "      <th>x58_uplift_increase</th>\n",
       "      <th>x59_increase_mix</th>\n",
       "      <th>x60_uplift_decrease</th>\n",
       "      <th>x61_uplift_decrease</th>\n",
       "      <th>x62_uplift_decrease</th>\n",
       "      <th>x63_uplift_decrease</th>\n",
       "      <th>conversion</th>\n",
       "      <th>treatment_effect</th>\n",
       "    </tr>\n",
       "  </thead>\n",
       "  <tbody>\n",
       "    <tr>\n",
       "      <th>0</th>\n",
       "      <td>control</td>\n",
       "      <td>0.653960</td>\n",
       "      <td>-0.217603</td>\n",
       "      <td>1.856916</td>\n",
       "      <td>-0.075662</td>\n",
       "      <td>0.080971</td>\n",
       "      <td>-0.338374</td>\n",
       "      <td>-1.011470</td>\n",
       "      <td>0.528000</td>\n",
       "      <td>0.115418</td>\n",
       "      <td>...</td>\n",
       "      <td>1.533832</td>\n",
       "      <td>-2.183001</td>\n",
       "      <td>1.839608</td>\n",
       "      <td>0.755302</td>\n",
       "      <td>1.835047</td>\n",
       "      <td>-0.458431</td>\n",
       "      <td>-1.927525</td>\n",
       "      <td>2.765331</td>\n",
       "      <td>0</td>\n",
       "      <td>0</td>\n",
       "    </tr>\n",
       "    <tr>\n",
       "      <th>1</th>\n",
       "      <td>control</td>\n",
       "      <td>3.439658</td>\n",
       "      <td>0.477855</td>\n",
       "      <td>-0.377658</td>\n",
       "      <td>-1.317121</td>\n",
       "      <td>0.861815</td>\n",
       "      <td>-0.393180</td>\n",
       "      <td>0.503727</td>\n",
       "      <td>2.323846</td>\n",
       "      <td>1.229948</td>\n",
       "      <td>...</td>\n",
       "      <td>-1.192333</td>\n",
       "      <td>-1.581815</td>\n",
       "      <td>2.423700</td>\n",
       "      <td>2.396904</td>\n",
       "      <td>0.296043</td>\n",
       "      <td>-1.961940</td>\n",
       "      <td>-1.444725</td>\n",
       "      <td>1.469213</td>\n",
       "      <td>1</td>\n",
       "      <td>0</td>\n",
       "    </tr>\n",
       "    <tr>\n",
       "      <th>2</th>\n",
       "      <td>treatment1</td>\n",
       "      <td>0.130907</td>\n",
       "      <td>-0.333536</td>\n",
       "      <td>0.474847</td>\n",
       "      <td>-0.352067</td>\n",
       "      <td>-0.024502</td>\n",
       "      <td>1.437105</td>\n",
       "      <td>0.566178</td>\n",
       "      <td>-0.232508</td>\n",
       "      <td>0.866236</td>\n",
       "      <td>...</td>\n",
       "      <td>-0.301982</td>\n",
       "      <td>-0.933816</td>\n",
       "      <td>0.475274</td>\n",
       "      <td>1.540994</td>\n",
       "      <td>0.698066</td>\n",
       "      <td>0.545091</td>\n",
       "      <td>-0.084405</td>\n",
       "      <td>-2.337347</td>\n",
       "      <td>1</td>\n",
       "      <td>0</td>\n",
       "    </tr>\n",
       "    <tr>\n",
       "      <th>3</th>\n",
       "      <td>treatment1</td>\n",
       "      <td>-2.156683</td>\n",
       "      <td>1.120198</td>\n",
       "      <td>0.174293</td>\n",
       "      <td>-1.741426</td>\n",
       "      <td>0.488993</td>\n",
       "      <td>0.638340</td>\n",
       "      <td>-0.721928</td>\n",
       "      <td>1.802134</td>\n",
       "      <td>1.097178</td>\n",
       "      <td>...</td>\n",
       "      <td>-2.129098</td>\n",
       "      <td>-1.183581</td>\n",
       "      <td>0.000318</td>\n",
       "      <td>1.105735</td>\n",
       "      <td>-0.629281</td>\n",
       "      <td>-0.737041</td>\n",
       "      <td>-1.525081</td>\n",
       "      <td>1.416042</td>\n",
       "      <td>0</td>\n",
       "      <td>0</td>\n",
       "    </tr>\n",
       "    <tr>\n",
       "      <th>4</th>\n",
       "      <td>control</td>\n",
       "      <td>-2.708572</td>\n",
       "      <td>-0.799698</td>\n",
       "      <td>-2.199595</td>\n",
       "      <td>0.574077</td>\n",
       "      <td>0.083142</td>\n",
       "      <td>-0.389140</td>\n",
       "      <td>1.492101</td>\n",
       "      <td>1.725202</td>\n",
       "      <td>1.194315</td>\n",
       "      <td>...</td>\n",
       "      <td>1.582041</td>\n",
       "      <td>-1.176077</td>\n",
       "      <td>1.686322</td>\n",
       "      <td>0.480035</td>\n",
       "      <td>1.780710</td>\n",
       "      <td>0.862094</td>\n",
       "      <td>0.128872</td>\n",
       "      <td>-2.851344</td>\n",
       "      <td>0</td>\n",
       "      <td>0</td>\n",
       "    </tr>\n",
       "  </tbody>\n",
       "</table>\n",
       "<p>5 rows × 66 columns</p>\n",
       "</div>"
      ],
      "text/plain": [
       "  treatment_group_key  x1_informative  x2_informative  x3_informative  \\\n",
       "0             control        0.653960       -0.217603        1.856916   \n",
       "1             control        3.439658        0.477855       -0.377658   \n",
       "2          treatment1        0.130907       -0.333536        0.474847   \n",
       "3          treatment1       -2.156683        1.120198        0.174293   \n",
       "4             control       -2.708572       -0.799698       -2.199595   \n",
       "\n",
       "   x4_informative  x5_informative  x6_informative  x7_informative  \\\n",
       "0       -0.075662        0.080971       -0.338374       -1.011470   \n",
       "1       -1.317121        0.861815       -0.393180        0.503727   \n",
       "2       -0.352067       -0.024502        1.437105        0.566178   \n",
       "3       -1.741426        0.488993        0.638340       -0.721928   \n",
       "4        0.574077        0.083142       -0.389140        1.492101   \n",
       "\n",
       "   x8_informative  x9_informative  ...  x56_uplift_increase  \\\n",
       "0        0.528000        0.115418  ...             1.533832   \n",
       "1        2.323846        1.229948  ...            -1.192333   \n",
       "2       -0.232508        0.866236  ...            -0.301982   \n",
       "3        1.802134        1.097178  ...            -2.129098   \n",
       "4        1.725202        1.194315  ...             1.582041   \n",
       "\n",
       "   x57_uplift_increase  x58_uplift_increase  x59_increase_mix  \\\n",
       "0            -2.183001             1.839608          0.755302   \n",
       "1            -1.581815             2.423700          2.396904   \n",
       "2            -0.933816             0.475274          1.540994   \n",
       "3            -1.183581             0.000318          1.105735   \n",
       "4            -1.176077             1.686322          0.480035   \n",
       "\n",
       "   x60_uplift_decrease  x61_uplift_decrease  x62_uplift_decrease  \\\n",
       "0             1.835047            -0.458431            -1.927525   \n",
       "1             0.296043            -1.961940            -1.444725   \n",
       "2             0.698066             0.545091            -0.084405   \n",
       "3            -0.629281            -0.737041            -1.525081   \n",
       "4             1.780710             0.862094             0.128872   \n",
       "\n",
       "   x63_uplift_decrease  conversion  treatment_effect  \n",
       "0             2.765331           0                 0  \n",
       "1             1.469213           1                 0  \n",
       "2            -2.337347           1                 0  \n",
       "3             1.416042           0                 0  \n",
       "4            -2.851344           0                 0  \n",
       "\n",
       "[5 rows x 66 columns]"
      ]
     },
     "execution_count": 9,
     "metadata": {},
     "output_type": "execute_result"
    }
   ],
   "source": [
    "df.head()"
   ]
  },
  {
   "cell_type": "code",
   "execution_count": 10,
   "metadata": {
    "ExecuteTime": {
     "end_time": "2021-11-29T22:45:19.608438Z",
     "start_time": "2021-11-29T22:45:19.419633Z"
    }
   },
   "outputs": [
    {
     "data": {
      "text/html": [
       "<div>\n",
       "<style scoped>\n",
       "    .dataframe tbody tr th:only-of-type {\n",
       "        vertical-align: middle;\n",
       "    }\n",
       "\n",
       "    .dataframe tbody tr th {\n",
       "        vertical-align: top;\n",
       "    }\n",
       "\n",
       "    .dataframe thead tr th {\n",
       "        text-align: left;\n",
       "    }\n",
       "\n",
       "    .dataframe thead tr:last-of-type th {\n",
       "        text-align: right;\n",
       "    }\n",
       "</style>\n",
       "<table border=\"1\" class=\"dataframe\">\n",
       "  <thead>\n",
       "    <tr>\n",
       "      <th></th>\n",
       "      <th>mean</th>\n",
       "      <th>size</th>\n",
       "    </tr>\n",
       "    <tr>\n",
       "      <th></th>\n",
       "      <th>conversion</th>\n",
       "      <th>conversion</th>\n",
       "    </tr>\n",
       "    <tr>\n",
       "      <th>treatment_group_key</th>\n",
       "      <th></th>\n",
       "      <th></th>\n",
       "    </tr>\n",
       "  </thead>\n",
       "  <tbody>\n",
       "    <tr>\n",
       "      <th>control</th>\n",
       "      <td>0.499050</td>\n",
       "      <td>100000</td>\n",
       "    </tr>\n",
       "    <tr>\n",
       "      <th>treatment1</th>\n",
       "      <td>0.599680</td>\n",
       "      <td>100000</td>\n",
       "    </tr>\n",
       "    <tr>\n",
       "      <th>All</th>\n",
       "      <td>0.549365</td>\n",
       "      <td>200000</td>\n",
       "    </tr>\n",
       "  </tbody>\n",
       "</table>\n",
       "</div>"
      ],
      "text/plain": [
       "                          mean       size\n",
       "                    conversion conversion\n",
       "treatment_group_key                      \n",
       "control               0.499050     100000\n",
       "treatment1            0.599680     100000\n",
       "All                   0.549365     200000"
      ]
     },
     "execution_count": 10,
     "metadata": {},
     "output_type": "execute_result"
    }
   ],
   "source": [
    "# Look at the conversion rate and sample size in each group\n",
    "df.pivot_table(values='conversion',\n",
    "               index='treatment_group_key',\n",
    "               aggfunc=[np.mean, np.size],\n",
    "               margins=True)"
   ]
  },
  {
   "cell_type": "code",
   "execution_count": 11,
   "metadata": {
    "ExecuteTime": {
     "end_time": "2021-11-29T22:45:19.613010Z",
     "start_time": "2021-11-29T22:45:19.609718Z"
    }
   },
   "outputs": [
    {
     "data": {
      "text/plain": [
       "['x1_informative',\n",
       " 'x2_informative',\n",
       " 'x3_informative',\n",
       " 'x4_informative',\n",
       " 'x5_informative',\n",
       " 'x6_informative',\n",
       " 'x7_informative',\n",
       " 'x8_informative',\n",
       " 'x9_informative',\n",
       " 'x10_informative',\n",
       " 'x11_irrelevant',\n",
       " 'x12_irrelevant',\n",
       " 'x13_irrelevant',\n",
       " 'x14_irrelevant',\n",
       " 'x15_irrelevant',\n",
       " 'x16_irrelevant',\n",
       " 'x17_irrelevant',\n",
       " 'x18_irrelevant',\n",
       " 'x19_irrelevant',\n",
       " 'x20_irrelevant',\n",
       " 'x21_irrelevant',\n",
       " 'x22_irrelevant',\n",
       " 'x23_irrelevant',\n",
       " 'x24_irrelevant',\n",
       " 'x25_irrelevant',\n",
       " 'x26_irrelevant',\n",
       " 'x27_irrelevant',\n",
       " 'x28_irrelevant',\n",
       " 'x29_irrelevant',\n",
       " 'x30_irrelevant',\n",
       " 'x31_irrelevant',\n",
       " 'x32_irrelevant',\n",
       " 'x33_irrelevant',\n",
       " 'x34_irrelevant',\n",
       " 'x35_irrelevant',\n",
       " 'x36_irrelevant',\n",
       " 'x37_irrelevant',\n",
       " 'x38_irrelevant',\n",
       " 'x39_irrelevant',\n",
       " 'x40_irrelevant',\n",
       " 'x41_irrelevant',\n",
       " 'x42_irrelevant',\n",
       " 'x43_irrelevant',\n",
       " 'x44_irrelevant',\n",
       " 'x45_irrelevant',\n",
       " 'x46_irrelevant',\n",
       " 'x47_irrelevant',\n",
       " 'x48_irrelevant',\n",
       " 'x49_irrelevant',\n",
       " 'x50_irrelevant',\n",
       " 'x51_uplift_increase',\n",
       " 'x52_uplift_increase',\n",
       " 'x53_uplift_increase',\n",
       " 'x54_uplift_increase',\n",
       " 'x55_uplift_increase',\n",
       " 'x56_uplift_increase',\n",
       " 'x57_uplift_increase',\n",
       " 'x58_uplift_increase',\n",
       " 'x59_increase_mix',\n",
       " 'x60_uplift_decrease',\n",
       " 'x61_uplift_decrease',\n",
       " 'x62_uplift_decrease',\n",
       " 'x63_uplift_decrease']"
      ]
     },
     "execution_count": 11,
     "metadata": {},
     "output_type": "execute_result"
    }
   ],
   "source": [
    "X_names"
   ]
  },
  {
   "cell_type": "markdown",
   "metadata": {},
   "source": [
    "## Feature selection with Filter methods"
   ]
  },
  {
   "cell_type": "markdown",
   "metadata": {},
   "source": [
    "### method = F (F statistics)"
   ]
  },
  {
   "cell_type": "code",
   "execution_count": 12,
   "metadata": {
    "ExecuteTime": {
     "end_time": "2021-11-29T22:45:19.616362Z",
     "start_time": "2021-11-29T22:45:19.614534Z"
    }
   },
   "outputs": [],
   "source": [
    "filter_f = FilterSelect() "
   ]
  },
  {
   "cell_type": "code",
   "execution_count": 13,
   "metadata": {
    "ExecuteTime": {
     "end_time": "2021-11-29T22:45:22.010814Z",
     "start_time": "2021-11-29T22:45:19.617574Z"
    }
   },
   "outputs": [
    {
     "name": "stdout",
     "output_type": "stream",
     "text": [
      "      method              feature  rank        score        p_value  \\\n",
      "0   F filter  x57_uplift_increase   1.0  1973.380496   0.000000e+00   \n",
      "0   F filter  x51_uplift_increase   2.0  1885.342364   0.000000e+00   \n",
      "0   F filter  x54_uplift_increase   3.0  1496.254091   0.000000e+00   \n",
      "0   F filter  x58_uplift_increase   4.0  1269.167710  4.224019e-277   \n",
      "0   F filter       x9_informative   5.0   677.066204  5.151887e-149   \n",
      "..       ...                  ...   ...          ...            ...   \n",
      "0   F filter       x30_irrelevant  59.0     0.004151   9.486301e-01   \n",
      "0   F filter       x50_irrelevant  60.0     0.001379   9.703808e-01   \n",
      "0   F filter       x36_irrelevant  61.0     0.001062   9.740069e-01   \n",
      "0   F filter       x6_informative  62.0     0.000428   9.834997e-01   \n",
      "0   F filter       x5_informative  63.0     0.000076   9.930457e-01   \n",
      "\n",
      "                               misc  \n",
      "0   df_num: 1.0, df_denom: 199996.0  \n",
      "0   df_num: 1.0, df_denom: 199996.0  \n",
      "0   df_num: 1.0, df_denom: 199996.0  \n",
      "0   df_num: 1.0, df_denom: 199996.0  \n",
      "0   df_num: 1.0, df_denom: 199996.0  \n",
      "..                              ...  \n",
      "0   df_num: 1.0, df_denom: 199996.0  \n",
      "0   df_num: 1.0, df_denom: 199996.0  \n",
      "0   df_num: 1.0, df_denom: 199996.0  \n",
      "0   df_num: 1.0, df_denom: 199996.0  \n",
      "0   df_num: 1.0, df_denom: 199996.0  \n",
      "\n",
      "[63 rows x 6 columns]\n"
     ]
    }
   ],
   "source": [
    "method = 'F'\n",
    "f_imp = filter_f.get_importance(df, X_names, y_name, method, \n",
    "                      treatment_group = 'treatment1')\n",
    "print(f_imp)"
   ]
  },
  {
   "cell_type": "markdown",
   "metadata": {},
   "source": [
    "### method = LR (likelihood ratio test)"
   ]
  },
  {
   "cell_type": "code",
   "execution_count": 14,
   "metadata": {
    "ExecuteTime": {
     "end_time": "2021-11-29T22:45:33.978540Z",
     "start_time": "2021-11-29T22:45:22.012629Z"
    }
   },
   "outputs": [
    {
     "name": "stdout",
     "output_type": "stream",
     "text": [
      "Optimization terminated successfully.\n",
      "         Current function value: 0.683141\n",
      "         Iterations 4\n",
      "Optimization terminated successfully.\n",
      "         Current function value: 0.683138\n",
      "         Iterations 4\n",
      "Optimization terminated successfully.\n",
      "         Current function value: 0.683140\n",
      "         Iterations 4\n",
      "Optimization terminated successfully.\n",
      "         Current function value: 0.683138\n",
      "         Iterations 4\n",
      "Optimization terminated successfully.\n",
      "         Current function value: 0.683143\n",
      "         Iterations 4\n",
      "Optimization terminated successfully.\n",
      "         Current function value: 0.683140\n",
      "         Iterations 4\n",
      "Optimization terminated successfully.\n",
      "         Current function value: 0.683142\n",
      "         Iterations 4\n",
      "Optimization terminated successfully.\n",
      "         Current function value: 0.683141\n",
      "         Iterations 4\n",
      "Optimization terminated successfully.\n",
      "         Current function value: 0.683142\n",
      "         Iterations 4\n",
      "Optimization terminated successfully.\n",
      "         Current function value: 0.683142\n",
      "         Iterations 4\n",
      "Optimization terminated successfully.\n",
      "         Current function value: 0.683143\n",
      "         Iterations 4\n",
      "Optimization terminated successfully.\n",
      "         Current function value: 0.683143\n",
      "         Iterations 4\n",
      "Optimization terminated successfully.\n",
      "         Current function value: 0.683141\n",
      "         Iterations 4\n",
      "Optimization terminated successfully.\n",
      "         Current function value: 0.683138\n",
      "         Iterations 4\n",
      "Optimization terminated successfully.\n",
      "         Current function value: 0.683140\n",
      "         Iterations 4\n",
      "Optimization terminated successfully.\n",
      "         Current function value: 0.683135\n",
      "         Iterations 4\n",
      "Optimization terminated successfully.\n",
      "         Current function value: 0.570527\n",
      "         Iterations 6\n",
      "Optimization terminated successfully.\n",
      "         Current function value: 0.568449\n",
      "         Iterations 6\n",
      "Optimization terminated successfully.\n",
      "         Current function value: 0.683141\n",
      "         Iterations 4\n",
      "Optimization terminated successfully.\n",
      "         Current function value: 0.683141\n",
      "         Iterations 4\n",
      "Optimization terminated successfully.\n",
      "         Current function value: 0.683138\n",
      "         Iterations 4\n",
      "Optimization terminated successfully.\n",
      "         Current function value: 0.683127\n",
      "         Iterations 4\n",
      "Optimization terminated successfully.\n",
      "         Current function value: 0.683142\n",
      "         Iterations 4\n",
      "Optimization terminated successfully.\n",
      "         Current function value: 0.683141\n",
      "         Iterations 4\n",
      "Optimization terminated successfully.\n",
      "         Current function value: 0.683143\n",
      "         Iterations 4\n",
      "Optimization terminated successfully.\n",
      "         Current function value: 0.683143\n",
      "         Iterations 4\n",
      "Optimization terminated successfully.\n",
      "         Current function value: 0.683140\n",
      "         Iterations 4\n",
      "Optimization terminated successfully.\n",
      "         Current function value: 0.683134\n",
      "         Iterations 4\n",
      "Optimization terminated successfully.\n",
      "         Current function value: 0.683143\n",
      "         Iterations 4\n",
      "Optimization terminated successfully.\n",
      "         Current function value: 0.683142\n",
      "         Iterations 4\n",
      "Optimization terminated successfully.\n",
      "         Current function value: 0.683142\n",
      "         Iterations 4\n",
      "Optimization terminated successfully.\n",
      "         Current function value: 0.683140\n",
      "         Iterations 4\n",
      "Optimization terminated successfully.\n",
      "         Current function value: 0.683136\n",
      "         Iterations 4\n",
      "Optimization terminated successfully.\n",
      "         Current function value: 0.683136\n",
      "         Iterations 4\n",
      "Optimization terminated successfully.\n",
      "         Current function value: 0.683143\n",
      "         Iterations 4\n",
      "Optimization terminated successfully.\n",
      "         Current function value: 0.683136\n",
      "         Iterations 4\n",
      "Optimization terminated successfully.\n",
      "         Current function value: 0.683143\n",
      "         Iterations 4\n",
      "Optimization terminated successfully.\n",
      "         Current function value: 0.683129\n",
      "         Iterations 4\n",
      "Optimization terminated successfully.\n",
      "         Current function value: 0.683137\n",
      "         Iterations 4\n",
      "Optimization terminated successfully.\n",
      "         Current function value: 0.683135\n",
      "         Iterations 4\n",
      "Optimization terminated successfully.\n",
      "         Current function value: 0.683138\n",
      "         Iterations 4\n",
      "Optimization terminated successfully.\n",
      "         Current function value: 0.683138\n",
      "         Iterations 4\n",
      "Optimization terminated successfully.\n",
      "         Current function value: 0.683137\n",
      "         Iterations 4\n",
      "Optimization terminated successfully.\n",
      "         Current function value: 0.683131\n",
      "         Iterations 4\n",
      "Optimization terminated successfully.\n",
      "         Current function value: 0.683143\n",
      "         Iterations 4\n",
      "Optimization terminated successfully.\n",
      "         Current function value: 0.683142\n",
      "         Iterations 4\n",
      "Optimization terminated successfully.\n",
      "         Current function value: 0.683143\n",
      "         Iterations 4\n",
      "Optimization terminated successfully.\n",
      "         Current function value: 0.683142\n",
      "         Iterations 4\n",
      "Optimization terminated successfully.\n",
      "         Current function value: 0.683141\n",
      "         Iterations 4\n",
      "Optimization terminated successfully.\n",
      "         Current function value: 0.683140\n",
      "         Iterations 4\n",
      "Optimization terminated successfully.\n",
      "         Current function value: 0.683143\n",
      "         Iterations 4\n",
      "Optimization terminated successfully.\n",
      "         Current function value: 0.683142\n",
      "         Iterations 4\n",
      "Optimization terminated successfully.\n",
      "         Current function value: 0.683136\n",
      "         Iterations 4\n",
      "Optimization terminated successfully.\n",
      "         Current function value: 0.683125\n",
      "         Iterations 4\n",
      "Optimization terminated successfully.\n",
      "         Current function value: 0.683142\n",
      "         Iterations 4\n",
      "Optimization terminated successfully.\n",
      "         Current function value: 0.683138\n",
      "         Iterations 4\n",
      "Optimization terminated successfully.\n",
      "         Current function value: 0.683143\n",
      "         Iterations 4\n",
      "Optimization terminated successfully.\n",
      "         Current function value: 0.683143\n",
      "         Iterations 4\n",
      "Optimization terminated successfully.\n",
      "         Current function value: 0.683136\n",
      "         Iterations 4\n",
      "Optimization terminated successfully.\n",
      "         Current function value: 0.683136\n",
      "         Iterations 4\n",
      "Optimization terminated successfully.\n",
      "         Current function value: 0.683141\n",
      "         Iterations 4\n",
      "Optimization terminated successfully.\n",
      "         Current function value: 0.683139\n",
      "         Iterations 4\n",
      "Optimization terminated successfully.\n",
      "         Current function value: 0.683137\n",
      "         Iterations 4\n",
      "Optimization terminated successfully.\n",
      "         Current function value: 0.683135\n",
      "         Iterations 4\n",
      "Optimization terminated successfully.\n",
      "         Current function value: 0.683143\n",
      "         Iterations 4\n",
      "Optimization terminated successfully.\n",
      "         Current function value: 0.683139\n",
      "         Iterations 4\n",
      "Optimization terminated successfully.\n",
      "         Current function value: 0.683137\n",
      "         Iterations 4\n",
      "Optimization terminated successfully.\n",
      "         Current function value: 0.683135\n",
      "         Iterations 4\n",
      "Optimization terminated successfully.\n",
      "         Current function value: 0.683138\n",
      "         Iterations 4\n",
      "Optimization terminated successfully.\n",
      "         Current function value: 0.683138\n",
      "         Iterations 4\n",
      "Optimization terminated successfully.\n",
      "         Current function value: 0.683142\n",
      "         Iterations 4\n",
      "Optimization terminated successfully.\n",
      "         Current function value: 0.683142\n",
      "         Iterations 4\n",
      "Optimization terminated successfully.\n",
      "         Current function value: 0.683141\n",
      "         Iterations 4\n",
      "Optimization terminated successfully.\n",
      "         Current function value: 0.683140\n",
      "         Iterations 4\n",
      "Optimization terminated successfully.\n",
      "         Current function value: 0.683143\n",
      "         Iterations 4\n",
      "Optimization terminated successfully.\n",
      "         Current function value: 0.683142\n",
      "         Iterations 4\n",
      "Optimization terminated successfully.\n",
      "         Current function value: 0.683136\n",
      "         Iterations 4\n",
      "Optimization terminated successfully.\n",
      "         Current function value: 0.683126\n",
      "         Iterations 4\n",
      "Optimization terminated successfully.\n",
      "         Current function value: 0.683140\n",
      "         Iterations 4\n",
      "Optimization terminated successfully.\n",
      "         Current function value: 0.683135\n",
      "         Iterations 4\n",
      "Optimization terminated successfully.\n",
      "         Current function value: 0.683143\n",
      "         Iterations 4\n"
     ]
    },
    {
     "name": "stdout",
     "output_type": "stream",
     "text": [
      "Optimization terminated successfully.\n",
      "         Current function value: 0.683140\n",
      "         Iterations 4\n",
      "Optimization terminated successfully.\n",
      "         Current function value: 0.683142\n",
      "         Iterations 4\n",
      "Optimization terminated successfully.\n",
      "         Current function value: 0.683133\n",
      "         Iterations 4\n",
      "Optimization terminated successfully.\n",
      "         Current function value: 0.683142\n",
      "         Iterations 4\n",
      "Optimization terminated successfully.\n",
      "         Current function value: 0.683141\n",
      "         Iterations 4\n",
      "Optimization terminated successfully.\n",
      "         Current function value: 0.683141\n",
      "         Iterations 4\n",
      "Optimization terminated successfully.\n",
      "         Current function value: 0.683140\n",
      "         Iterations 4\n",
      "Optimization terminated successfully.\n",
      "         Current function value: 0.683141\n",
      "         Iterations 4\n",
      "Optimization terminated successfully.\n",
      "         Current function value: 0.683139\n",
      "         Iterations 4\n",
      "Optimization terminated successfully.\n",
      "         Current function value: 0.683126\n",
      "         Iterations 4\n",
      "Optimization terminated successfully.\n",
      "         Current function value: 0.683113\n",
      "         Iterations 4\n",
      "Optimization terminated successfully.\n",
      "         Current function value: 0.683138\n",
      "         Iterations 4\n",
      "Optimization terminated successfully.\n",
      "         Current function value: 0.683134\n",
      "         Iterations 4\n",
      "Optimization terminated successfully.\n",
      "         Current function value: 0.683143\n",
      "         Iterations 4\n",
      "Optimization terminated successfully.\n",
      "         Current function value: 0.683142\n",
      "         Iterations 4\n",
      "Optimization terminated successfully.\n",
      "         Current function value: 0.683142\n",
      "         Iterations 4\n",
      "Optimization terminated successfully.\n",
      "         Current function value: 0.683142\n",
      "         Iterations 4\n",
      "Optimization terminated successfully.\n",
      "         Current function value: 0.683143\n",
      "         Iterations 4\n",
      "Optimization terminated successfully.\n",
      "         Current function value: 0.683143\n",
      "         Iterations 4\n",
      "Optimization terminated successfully.\n",
      "         Current function value: 0.678404\n",
      "         Iterations 4\n",
      "Optimization terminated successfully.\n",
      "         Current function value: 0.673481\n",
      "         Iterations 5\n",
      "Optimization terminated successfully.\n",
      "         Current function value: 0.683139\n",
      "         Iterations 4\n",
      "Optimization terminated successfully.\n",
      "         Current function value: 0.683139\n",
      "         Iterations 4\n",
      "Optimization terminated successfully.\n",
      "         Current function value: 0.683143\n",
      "         Iterations 4\n",
      "Optimization terminated successfully.\n",
      "         Current function value: 0.683136\n",
      "         Iterations 4\n",
      "Optimization terminated successfully.\n",
      "         Current function value: 0.678797\n",
      "         Iterations 4\n",
      "Optimization terminated successfully.\n",
      "         Current function value: 0.674807\n",
      "         Iterations 5\n",
      "Optimization terminated successfully.\n",
      "         Current function value: 0.683143\n",
      "         Iterations 4\n",
      "Optimization terminated successfully.\n",
      "         Current function value: 0.683141\n",
      "         Iterations 4\n",
      "Optimization terminated successfully.\n",
      "         Current function value: 0.683142\n",
      "         Iterations 4\n",
      "Optimization terminated successfully.\n",
      "         Current function value: 0.683139\n",
      "         Iterations 4\n",
      "Optimization terminated successfully.\n",
      "         Current function value: 0.678449\n",
      "         Iterations 4\n",
      "Optimization terminated successfully.\n",
      "         Current function value: 0.673272\n",
      "         Iterations 5\n",
      "Optimization terminated successfully.\n",
      "         Current function value: 0.679964\n",
      "         Iterations 4\n",
      "Optimization terminated successfully.\n",
      "         Current function value: 0.676614\n",
      "         Iterations 5\n",
      "Optimization terminated successfully.\n",
      "         Current function value: 0.683143\n",
      "         Iterations 4\n",
      "Optimization terminated successfully.\n",
      "         Current function value: 0.683140\n",
      "         Iterations 4\n",
      "Optimization terminated successfully.\n",
      "         Current function value: 0.683142\n",
      "         Iterations 4\n",
      "Optimization terminated successfully.\n",
      "         Current function value: 0.683134\n",
      "         Iterations 4\n",
      "Optimization terminated successfully.\n",
      "         Current function value: 0.683143\n",
      "         Iterations 4\n",
      "Optimization terminated successfully.\n",
      "         Current function value: 0.683128\n",
      "         Iterations 4\n",
      "Optimization terminated successfully.\n",
      "         Current function value: 0.683143\n",
      "         Iterations 4\n",
      "Optimization terminated successfully.\n",
      "         Current function value: 0.683137\n",
      "         Iterations 4\n",
      "Optimization terminated successfully.\n",
      "         Current function value: 0.683143\n",
      "         Iterations 4\n",
      "Optimization terminated successfully.\n",
      "         Current function value: 0.683120\n",
      "         Iterations 4\n",
      "       method              feature  rank        score   p_value   misc\n",
      "0   LR filter  x57_uplift_increase   1.0  2070.582853  0.000000  df: 1\n",
      "0   LR filter  x51_uplift_increase   2.0  1969.081668  0.000000  df: 1\n",
      "0   LR filter  x54_uplift_increase   3.0  1596.059562  0.000000  df: 1\n",
      "0   LR filter  x58_uplift_increase   4.0  1339.970602  0.000000  df: 1\n",
      "0   LR filter       x9_informative   5.0   830.925812  0.000000  df: 1\n",
      "..        ...                  ...   ...          ...       ...    ...\n",
      "0   LR filter       x36_irrelevant  59.0     0.002396  0.960964  df: 1\n",
      "0   LR filter       x50_irrelevant  60.0     0.001808  0.966086  df: 1\n",
      "0   LR filter       x30_irrelevant  61.0     0.000956  0.975339  df: 1\n",
      "0   LR filter       x6_informative  62.0     0.000732  0.978420  df: 1\n",
      "0   LR filter       x5_informative  63.0     0.000029  0.995726  df: 1\n",
      "\n",
      "[63 rows x 6 columns]\n"
     ]
    }
   ],
   "source": [
    "method = 'LR'\n",
    "lr_imp = filter_f.get_importance(df, X_names, y_name, method, \n",
    "                      treatment_group = 'treatment1')\n",
    "print(lr_imp)"
   ]
  },
  {
   "cell_type": "markdown",
   "metadata": {},
   "source": [
    "### method = KL (KL divergence)"
   ]
  },
  {
   "cell_type": "code",
   "execution_count": 15,
   "metadata": {
    "ExecuteTime": {
     "end_time": "2021-11-29T22:45:46.414304Z",
     "start_time": "2021-11-29T22:45:33.981158Z"
    }
   },
   "outputs": [
    {
     "name": "stdout",
     "output_type": "stream",
     "text": [
      "       method              feature  rank     score p_value                misc\n",
      "0   KL filter  x51_uplift_increase   1.0  0.026008    None  number_of_bins: 10\n",
      "0   KL filter  x57_uplift_increase   2.0  0.023749    None  number_of_bins: 10\n",
      "0   KL filter       x9_informative   3.0  0.020550    None  number_of_bins: 10\n",
      "0   KL filter  x54_uplift_increase   4.0  0.018411    None  number_of_bins: 10\n",
      "0   KL filter  x58_uplift_increase   5.0  0.014443    None  number_of_bins: 10\n",
      "..        ...                  ...   ...       ...     ...                 ...\n",
      "0   KL filter       x29_irrelevant  59.0  0.000021    None  number_of_bins: 10\n",
      "0   KL filter       x30_irrelevant  60.0  0.000020    None  number_of_bins: 10\n",
      "0   KL filter       x17_irrelevant  61.0  0.000017    None  number_of_bins: 10\n",
      "0   KL filter       x45_irrelevant  62.0  0.000013    None  number_of_bins: 10\n",
      "0   KL filter       x7_informative  63.0  0.000011    None  number_of_bins: 10\n",
      "\n",
      "[63 rows x 6 columns]\n"
     ]
    }
   ],
   "source": [
    "\n",
    "method = 'KL'\n",
    "kl_imp = filter_f.get_importance(df, X_names, y_name, method, \n",
    "                      treatment_group = 'treatment1',\n",
    "                      n_bins=10)\n",
    "print(kl_imp)"
   ]
  },
  {
   "cell_type": "markdown",
   "metadata": {},
   "source": [
    "We found all these 3 filter methods were able to rank most of the **informative** and **uplift increase** features on the top."
   ]
  },
  {
   "cell_type": "markdown",
   "metadata": {},
   "source": [
    "## Performance evaluation  \n",
    "\n",
    "Evaluate the AUUC (Area Under the Uplift Curve) score with several uplift models when using top features dataset "
   ]
  },
  {
   "cell_type": "code",
   "execution_count": 16,
   "metadata": {
    "ExecuteTime": {
     "end_time": "2021-11-29T22:45:46.497534Z",
     "start_time": "2021-11-29T22:45:46.415884Z"
    }
   },
   "outputs": [],
   "source": [
    "# train test split\n",
    "df_train, df_test = train_test_split(df, test_size=0.2, random_state=111)"
   ]
  },
  {
   "cell_type": "code",
   "execution_count": 17,
   "metadata": {
    "ExecuteTime": {
     "end_time": "2021-11-29T22:45:46.510551Z",
     "start_time": "2021-11-29T22:45:46.499845Z"
    }
   },
   "outputs": [
    {
     "name": "stdout",
     "output_type": "stream",
     "text": [
      "[1 0 0 0 0 1 0 1 1 0]\n",
      "79114     treatment1\n",
      "76043        control\n",
      "47617        control\n",
      "53169        control\n",
      "175702       control\n",
      "111635    treatment1\n",
      "129212       control\n",
      "19247     treatment1\n",
      "49272     treatment1\n",
      "199314       control\n",
      "Name: treatment_group_key, dtype: object\n"
     ]
    }
   ],
   "source": [
    "# convert treatment column to 1 (treatment1) and 0 (control)\n",
    "treatments = np.where((df_test['treatment_group_key']=='treatment1'), 1, 0)\n",
    "print(treatments[:10])\n",
    "print(df_test['treatment_group_key'][:10])"
   ]
  },
  {
   "cell_type": "markdown",
   "metadata": {},
   "source": [
    "### Uplift RandomForest Classfier"
   ]
  },
  {
   "cell_type": "code",
   "execution_count": 18,
   "metadata": {
    "ExecuteTime": {
     "end_time": "2021-11-29T22:45:46.514976Z",
     "start_time": "2021-11-29T22:45:46.512507Z"
    }
   },
   "outputs": [],
   "source": [
    "uplift_model = UpliftRandomForestClassifier(control_name='control', max_depth=8)"
   ]
  },
  {
   "cell_type": "code",
   "execution_count": 19,
   "metadata": {
    "ExecuteTime": {
     "end_time": "2021-11-29T22:48:04.459656Z",
     "start_time": "2021-11-29T22:45:46.516815Z"
    }
   },
   "outputs": [],
   "source": [
    "# using all features\n",
    "features = X_names \n",
    "uplift_model.fit(X = df_train[features].values, \n",
    "                 treatment = df_train['treatment_group_key'].values,\n",
    "                 y = df_train[y_name].values)\n",
    "y_preds = uplift_model.predict(df_test[features].values)"
   ]
  },
  {
   "cell_type": "markdown",
   "metadata": {},
   "source": [
    "### Select top N features based on KL filter"
   ]
  },
  {
   "cell_type": "code",
   "execution_count": 20,
   "metadata": {
    "ExecuteTime": {
     "end_time": "2021-11-29T22:48:04.466886Z",
     "start_time": "2021-11-29T22:48:04.461249Z"
    }
   },
   "outputs": [
    {
     "name": "stdout",
     "output_type": "stream",
     "text": [
      "0    x51_uplift_increase\n",
      "0    x57_uplift_increase\n",
      "0         x9_informative\n",
      "0    x54_uplift_increase\n",
      "0    x58_uplift_increase\n",
      "0    x52_uplift_increase\n",
      "0    x55_uplift_increase\n",
      "0         x23_irrelevant\n",
      "0       x59_increase_mix\n",
      "0         x21_irrelevant\n",
      "Name: feature, dtype: object\n"
     ]
    }
   ],
   "source": [
    "top_n = 10\n",
    "top_10_features = kl_imp['feature'][:top_n]\n",
    "print(top_10_features)"
   ]
  },
  {
   "cell_type": "code",
   "execution_count": 21,
   "metadata": {
    "ExecuteTime": {
     "end_time": "2021-11-29T22:48:04.472658Z",
     "start_time": "2021-11-29T22:48:04.469577Z"
    }
   },
   "outputs": [
    {
     "name": "stdout",
     "output_type": "stream",
     "text": [
      "0    x51_uplift_increase\n",
      "0    x57_uplift_increase\n",
      "0         x9_informative\n",
      "0    x54_uplift_increase\n",
      "0    x58_uplift_increase\n",
      "0    x52_uplift_increase\n",
      "0    x55_uplift_increase\n",
      "0         x23_irrelevant\n",
      "0       x59_increase_mix\n",
      "0         x21_irrelevant\n",
      "0         x15_irrelevant\n",
      "0         x11_irrelevant\n",
      "0         x46_irrelevant\n",
      "0         x39_irrelevant\n",
      "0    x53_uplift_increase\n",
      "Name: feature, dtype: object\n"
     ]
    }
   ],
   "source": [
    "top_n = 15\n",
    "top_15_features = kl_imp['feature'][:top_n]\n",
    "print(top_15_features)"
   ]
  },
  {
   "cell_type": "code",
   "execution_count": 22,
   "metadata": {
    "ExecuteTime": {
     "end_time": "2021-11-29T22:48:04.477660Z",
     "start_time": "2021-11-29T22:48:04.474508Z"
    }
   },
   "outputs": [
    {
     "name": "stdout",
     "output_type": "stream",
     "text": [
      "0    x51_uplift_increase\n",
      "0    x57_uplift_increase\n",
      "0         x9_informative\n",
      "0    x54_uplift_increase\n",
      "0    x58_uplift_increase\n",
      "0    x52_uplift_increase\n",
      "0    x55_uplift_increase\n",
      "0         x23_irrelevant\n",
      "0       x59_increase_mix\n",
      "0         x21_irrelevant\n",
      "0         x15_irrelevant\n",
      "0         x11_irrelevant\n",
      "0         x46_irrelevant\n",
      "0         x39_irrelevant\n",
      "0    x53_uplift_increase\n",
      "0        x10_informative\n",
      "0         x2_informative\n",
      "0         x31_irrelevant\n",
      "0         x19_irrelevant\n",
      "0         x40_irrelevant\n",
      "Name: feature, dtype: object\n"
     ]
    }
   ],
   "source": [
    "top_n = 20\n",
    "top_20_features = kl_imp['feature'][:top_n]\n",
    "print(top_20_features)"
   ]
  },
  {
   "cell_type": "markdown",
   "metadata": {},
   "source": [
    "#### Train the Uplift model again with top N features"
   ]
  },
  {
   "cell_type": "code",
   "execution_count": 23,
   "metadata": {
    "ExecuteTime": {
     "end_time": "2021-11-29T22:49:14.380345Z",
     "start_time": "2021-11-29T22:48:04.483465Z"
    },
    "scrolled": true
   },
   "outputs": [],
   "source": [
    "# using top 10 features\n",
    "features = top_10_features \n",
    "\n",
    "uplift_model.fit(X = df_train[features].values, \n",
    "                 treatment = df_train['treatment_group_key'].values,\n",
    "                 y = df_train[y_name].values)\n",
    "y_preds_t10 = uplift_model.predict(df_test[features].values)"
   ]
  },
  {
   "cell_type": "code",
   "execution_count": 24,
   "metadata": {
    "ExecuteTime": {
     "end_time": "2021-11-29T22:50:37.407711Z",
     "start_time": "2021-11-29T22:49:14.383261Z"
    }
   },
   "outputs": [],
   "source": [
    "# using top 15 features\n",
    "features = top_15_features \n",
    "\n",
    "uplift_model.fit(X = df_train[features].values, \n",
    "                 treatment = df_train['treatment_group_key'].values,\n",
    "                 y = df_train[y_name].values)\n",
    "y_preds_t15 = uplift_model.predict(df_test[features].values)"
   ]
  },
  {
   "cell_type": "code",
   "execution_count": 25,
   "metadata": {
    "ExecuteTime": {
     "end_time": "2021-11-29T22:52:02.337981Z",
     "start_time": "2021-11-29T22:50:37.409572Z"
    }
   },
   "outputs": [],
   "source": [
    "# using top 20 features\n",
    "features = top_20_features\n",
    "\n",
    "uplift_model.fit(X = df_train[features].values, \n",
    "                 treatment = df_train['treatment_group_key'].values,\n",
    "                 y = df_train[y_name].values)\n",
    "y_preds_t20 = uplift_model.predict(df_test[features].values)"
   ]
  },
  {
   "cell_type": "markdown",
   "metadata": {},
   "source": [
    "### Print results for Uplift model"
   ]
  },
  {
   "cell_type": "code",
   "execution_count": 26,
   "metadata": {
    "ExecuteTime": {
     "end_time": "2021-11-29T22:52:04.153825Z",
     "start_time": "2021-11-29T22:52:02.340008Z"
    }
   },
   "outputs": [
    {
     "data": {
      "image/png": "[encoded data removed]",
      "text/plain": [
       "<Figure size 576x576 with 1 Axes>"
      ]
     },
     "metadata": {},
     "output_type": "display_data"
    }
   ],
   "source": [
    "df_preds = pd.DataFrame([y_preds.ravel(), \n",
    "                         y_preds_t10.ravel(),\n",
    "                         y_preds_t15.ravel(),\n",
    "                         y_preds_t20.ravel(),\n",
    "                         treatments,\n",
    "                         df_test[y_name].ravel()],\n",
    "                        index=['All', 'Top 10', 'Top 15', 'Top 20', 'is_treated', y_name]).T\n",
    "\n",
    "plot_gain(df_preds, outcome_col=y_name, treatment_col='is_treated')\n"
   ]
  },
  {
   "cell_type": "code",
   "execution_count": 27,
   "metadata": {
    "ExecuteTime": {
     "end_time": "2021-11-29T22:52:04.355368Z",
     "start_time": "2021-11-29T22:52:04.155514Z"
    }
   },
   "outputs": [
    {
     "data": {
      "text/plain": [
       "All       0.883113\n",
       "Top 10    0.902750\n",
       "Top 15    0.903005\n",
       "Top 20    0.894030\n",
       "Random    0.493027\n",
       "dtype: float64"
      ]
     },
     "execution_count": 27,
     "metadata": {},
     "output_type": "execute_result"
    }
   ],
   "source": [
    "auuc_score(df_preds, outcome_col=y_name, treatment_col='is_treated')"
   ]
  },
  {
   "cell_type": "markdown",
   "metadata": {},
   "source": [
    "### R Learner as base and feed in Random Forest Regressor"
   ]
  },
  {
   "cell_type": "code",
   "execution_count": 28,
   "metadata": {
    "ExecuteTime": {
     "end_time": "2021-11-29T22:52:04.359998Z",
     "start_time": "2021-11-29T22:52:04.356729Z"
    }
   },
   "outputs": [],
   "source": [
    "r_rf_learner = BaseRRegressor(\n",
    "    RandomForestRegressor(\n",
    "        n_estimators = 100,\n",
    "        max_depth = 8,\n",
    "        min_samples_leaf = 100\n",
    "    ), \n",
    "control_name='control') "
   ]
  },
  {
   "cell_type": "code",
   "execution_count": 29,
   "metadata": {
    "ExecuteTime": {
     "end_time": "2021-11-29T23:07:56.770197Z",
     "start_time": "2021-11-29T22:52:04.361299Z"
    }
   },
   "outputs": [
    {
     "name": "stderr",
     "output_type": "stream",
     "text": [
      "INFO:causalml:Generating propensity score\n",
      "INFO:causalml:Calibrating propensity scores.\n",
      "INFO:causalml:generating out-of-fold CV outcome estimates\n",
      "INFO:causalml:training the treatment effect model for treatment1 with R-loss\n"
     ]
    }
   ],
   "source": [
    "# using all features\n",
    "features = X_names \n",
    "r_rf_learner.fit(X = df_train[features].values, \n",
    "                 treatment = df_train['treatment_group_key'].values,\n",
    "                 y = df_train[y_name].values)\n",
    "y_preds = r_rf_learner.predict(df_test[features].values)"
   ]
  },
  {
   "cell_type": "code",
   "execution_count": 30,
   "metadata": {
    "ExecuteTime": {
     "end_time": "2021-11-29T23:10:22.727884Z",
     "start_time": "2021-11-29T23:07:56.771842Z"
    }
   },
   "outputs": [
    {
     "name": "stderr",
     "output_type": "stream",
     "text": [
      "INFO:causalml:Generating propensity score\n",
      "INFO:causalml:Calibrating propensity scores.\n",
      "INFO:causalml:generating out-of-fold CV outcome estimates\n",
      "INFO:causalml:training the treatment effect model for treatment1 with R-loss\n"
     ]
    }
   ],
   "source": [
    "# using top 10 features\n",
    "features = top_10_features \n",
    "r_rf_learner.fit(X = df_train[features].values, \n",
    "                 treatment = df_train['treatment_group_key'].values,\n",
    "                 y = df_train[y_name].values)\n",
    "y_preds_t10 = r_rf_learner.predict(df_test[features].values)"
   ]
  },
  {
   "cell_type": "code",
   "execution_count": 31,
   "metadata": {
    "ExecuteTime": {
     "end_time": "2021-11-29T23:14:02.389101Z",
     "start_time": "2021-11-29T23:10:22.729730Z"
    }
   },
   "outputs": [
    {
     "name": "stderr",
     "output_type": "stream",
     "text": [
      "INFO:causalml:Generating propensity score\n",
      "INFO:causalml:Calibrating propensity scores.\n",
      "INFO:causalml:generating out-of-fold CV outcome estimates\n",
      "INFO:causalml:training the treatment effect model for treatment1 with R-loss\n"
     ]
    }
   ],
   "source": [
    "# using top 15 features\n",
    "features = top_15_features \n",
    "r_rf_learner.fit(X = df_train[features].values, \n",
    "                 treatment = df_train['treatment_group_key'].values,\n",
    "                 y = df_train[y_name].values)\n",
    "y_preds_t15 = r_rf_learner.predict(df_test[features].values)"
   ]
  },
  {
   "cell_type": "code",
   "execution_count": 32,
   "metadata": {
    "ExecuteTime": {
     "end_time": "2021-11-29T23:18:54.190818Z",
     "start_time": "2021-11-29T23:14:02.390709Z"
    }
   },
   "outputs": [
    {
     "name": "stderr",
     "output_type": "stream",
     "text": [
      "INFO:causalml:Generating propensity score\n",
      "INFO:causalml:Calibrating propensity scores.\n",
      "INFO:causalml:generating out-of-fold CV outcome estimates\n",
      "INFO:causalml:training the treatment effect model for treatment1 with R-loss\n"
     ]
    }
   ],
   "source": [
    "# using top 20 features\n",
    "features = top_20_features \n",
    "r_rf_learner.fit(X = df_train[features].values, \n",
    "                 treatment = df_train['treatment_group_key'].values,\n",
    "                 y = df_train[y_name].values)\n",
    "y_preds_t20 = r_rf_learner.predict(df_test[features].values)"
   ]
  },
  {
   "cell_type": "markdown",
   "metadata": {},
   "source": [
    "### Print results for R Learner"
   ]
  },
  {
   "cell_type": "code",
   "execution_count": 33,
   "metadata": {
    "ExecuteTime": {
     "end_time": "2021-11-29T23:18:56.044272Z",
     "start_time": "2021-11-29T23:18:54.192388Z"
    }
   },
   "outputs": [
    {
     "data": {
      "image/png": "[encoded data removed]",
      "text/plain": [
       "<Figure size 576x576 with 1 Axes>"
      ]
     },
     "metadata": {},
     "output_type": "display_data"
    }
   ],
   "source": [
    "df_preds = pd.DataFrame([y_preds.ravel(), \n",
    "                         y_preds_t10.ravel(),\n",
    "                         y_preds_t15.ravel(),\n",
    "                         y_preds_t20.ravel(),\n",
    "                         treatments,\n",
    "                         df_test[y_name].ravel()],\n",
    "                        index=['All', 'Top 10', 'Top 15', 'Top 20', 'is_treated', y_name]).T\n",
    "\n",
    "plot_gain(df_preds, outcome_col=y_name, treatment_col='is_treated')"
   ]
  },
  {
   "cell_type": "code",
   "execution_count": 34,
   "metadata": {
    "ExecuteTime": {
     "end_time": "2021-11-29T23:18:56.211023Z",
     "start_time": "2021-11-29T23:18:56.045507Z"
    }
   },
   "outputs": [
    {
     "data": {
      "text/plain": [
       "All       0.898363\n",
       "Top 10    0.906834\n",
       "Top 15    0.897248\n",
       "Top 20    0.898664\n",
       "Random    0.493027\n",
       "dtype: float64"
      ]
     },
     "execution_count": 34,
     "metadata": {},
     "output_type": "execute_result"
    }
   ],
   "source": [
    "# print out AUUC score\n",
    "auuc_score(df_preds, outcome_col=y_name, treatment_col='is_treated')"
   ]
  },
  {
   "cell_type": "markdown",
   "metadata": {},
   "source": [
    "(a relatively smaller enhancement on the AUUC is observed in this R Learner case)"
   ]
  },
  {
   "cell_type": "markdown",
   "metadata": {},
   "source": [
    "### S Learner as base and feed in Random Forest Regressor"
   ]
  },
  {
   "cell_type": "code",
   "execution_count": 35,
   "metadata": {
    "ExecuteTime": {
     "end_time": "2021-11-29T23:18:56.214863Z",
     "start_time": "2021-11-29T23:18:56.212530Z"
    }
   },
   "outputs": [],
   "source": [
    "slearner_rf = BaseSRegressor(\n",
    "    RandomForestRegressor(\n",
    "        n_estimators = 100,\n",
    "        max_depth = 8,\n",
    "        min_samples_leaf = 100\n",
    "    ), \n",
    "    control_name='control')"
   ]
  },
  {
   "cell_type": "code",
   "execution_count": 36,
   "metadata": {
    "ExecuteTime": {
     "end_time": "2021-11-29T23:26:06.103012Z",
     "start_time": "2021-11-29T23:18:56.216262Z"
    }
   },
   "outputs": [],
   "source": [
    "# using all features\n",
    "features = X_names \n",
    "slearner_rf.fit(X = df_train[features].values, \n",
    "                treatment = df_train['treatment_group_key'].values,\n",
    "                y = df_train[y_name].values)\n",
    "y_preds = slearner_rf.predict(df_test[features].values)"
   ]
  },
  {
   "cell_type": "code",
   "execution_count": 37,
   "metadata": {
    "ExecuteTime": {
     "end_time": "2021-11-29T23:27:14.666207Z",
     "start_time": "2021-11-29T23:26:06.104715Z"
    }
   },
   "outputs": [],
   "source": [
    "# using top 10 features\n",
    "features = top_10_features \n",
    "slearner_rf.fit(X = df_train[features].values, \n",
    "                treatment = df_train['treatment_group_key'].values,\n",
    "                y = df_train[y_name].values)\n",
    "y_preds_t10 = slearner_rf.predict(df_test[features].values)"
   ]
  },
  {
   "cell_type": "code",
   "execution_count": 38,
   "metadata": {
    "ExecuteTime": {
     "end_time": "2021-11-29T23:28:56.526315Z",
     "start_time": "2021-11-29T23:27:14.667927Z"
    }
   },
   "outputs": [],
   "source": [
    "# using top 15 features\n",
    "features = top_15_features \n",
    "slearner_rf.fit(X = df_train[features].values, \n",
    "                treatment = df_train['treatment_group_key'].values,\n",
    "                y = df_train[y_name].values)\n",
    "y_preds_t15 = slearner_rf.predict(df_test[features].values)"
   ]
  },
  {
   "cell_type": "code",
   "execution_count": 39,
   "metadata": {
    "ExecuteTime": {
     "end_time": "2021-11-29T23:31:13.640303Z",
     "start_time": "2021-11-29T23:28:56.527765Z"
    }
   },
   "outputs": [],
   "source": [
    "# using top 20 features\n",
    "features = top_20_features \n",
    "slearner_rf.fit(X = df_train[features].values, \n",
    "                treatment = df_train['treatment_group_key'].values,\n",
    "                y = df_train[y_name].values)\n",
    "y_preds_t20 = slearner_rf.predict(df_test[features].values)"
   ]
  },
  {
   "cell_type": "markdown",
   "metadata": {},
   "source": [
    "### Print results for S Learner"
   ]
  },
  {
   "cell_type": "code",
   "execution_count": 40,
   "metadata": {
    "ExecuteTime": {
     "end_time": "2021-11-29T23:31:15.343770Z",
     "start_time": "2021-11-29T23:31:13.641802Z"
    }
   },
   "outputs": [
    {
     "data": {
      "image/png": "[encoded data removed]",
      "text/plain": [
       "<Figure size 576x576 with 1 Axes>"
      ]
     },
     "metadata": {},
     "output_type": "display_data"
    }
   ],
   "source": [
    "df_preds = pd.DataFrame([y_preds.ravel(), \n",
    "                         y_preds_t10.ravel(),\n",
    "                         y_preds_t15.ravel(),\n",
    "                         y_preds_t20.ravel(),\n",
    "                         treatments,\n",
    "                         df_test[y_name].ravel()],\n",
    "                        index=['All', 'Top 10', 'Top 15', 'Top 20', 'is_treated', y_name]).T\n",
    "\n",
    "plot_gain(df_preds, outcome_col=y_name, treatment_col='is_treated')"
   ]
  },
  {
   "cell_type": "code",
   "execution_count": 41,
   "metadata": {
    "ExecuteTime": {
     "end_time": "2021-11-29T23:31:15.523386Z",
     "start_time": "2021-11-29T23:31:15.346076Z"
    }
   },
   "outputs": [
    {
     "data": {
      "text/plain": [
       "All       0.866137\n",
       "Top 10    0.882310\n",
       "Top 15    0.882737\n",
       "Top 20    0.871582\n",
       "Random    0.493027\n",
       "dtype: float64"
      ]
     },
     "execution_count": 41,
     "metadata": {},
     "output_type": "execute_result"
    }
   ],
   "source": [
    "# print out AUUC score\n",
    "auuc_score(df_preds, outcome_col=y_name, treatment_col='is_treated')"
   ]
  },
  {
   "cell_type": "markdown",
   "metadata": {},
   "source": [
    "In this notebook, we demonstrated how our Filter method functions are able to select important features and enhance the AUUC performance (while the results might vary among different datasets, models and hyper-parameters)."
   ]
  }
 ],
 "metadata": {
  "kernelspec": {
   "display_name": "Python 3",
   "language": "python",
   "name": "python3"
  },
  "language_info": {
   "codemirror_mode": {
    "name": "ipython",
    "version": 3
   },
   "file_extension": ".py",
   "mimetype": "text/x-python",
   "name": "python",
   "nbconvert_exporter": "python",
   "pygments_lexer": "ipython3",
   "version": "3.8.5"
  },
  "toc": {
   "base_numbering": 1,
   "nav_menu": {},
   "number_sections": true,
   "sideBar": true,
   "skip_h1_title": false,
   "title_cell": "Table of Contents",
   "title_sidebar": "Contents",
   "toc_cell": false,
   "toc_position": {},
   "toc_section_display": true,
   "toc_window_display": false
  }
 },
 "nbformat": 4,
 "nbformat_minor": 2
}
